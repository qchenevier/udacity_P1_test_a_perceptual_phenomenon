{
 "cells": [
  {
   "cell_type": "markdown",
   "metadata": {},
   "source": [
    "# Stroop effect"
   ]
  },
  {
   "cell_type": "markdown",
   "metadata": {},
   "source": [
    "In a Stroop task, participants are presented with a list of words, with each word displayed in a color of ink. The participant’s task is to say out loud the color of the ink in which the word is printed. The task has two conditions: a congruent words condition, and an incongruent words condition. In the congruent words condition, the words being displayed are color words whose names match the colors in which they are printed: for example RED, BLUE. In the incongruent words condition, the words displayed are color words whose names do not match the colors in which they are printed: for example PURPLE, ORANGE. In each case, we measure the time it takes to name the ink colors in equally-sized lists. Each participant will go through and record a time from each condition."
   ]
  },
  {
   "cell_type": "markdown",
   "metadata": {},
   "source": [
    "### 1. What is our independent variable? What is our dependent variable?"
   ]
  },
  {
   "cell_type": "markdown",
   "metadata": {},
   "source": [
    "- Independent variable: congruent/incongruent words condition\n",
    "- Dependent variable: time to read words list"
   ]
  },
  {
   "cell_type": "markdown",
   "metadata": {},
   "source": [
    "### 2. What is an appropriate set of hypotheses for this task? What kind of statistical test do you expect to perform? Justify your choices."
   ]
  },
  {
   "cell_type": "markdown",
   "metadata": {},
   "source": [
    "Incongruent words seem to be harder to read than congruent words: we want to test if congruent words lists are read faster than incongruent words lists.\n",
    "\n",
    "##### Set of hypotheses:\n",
    "   - $H_{0}: \\mu_{c} = \\mu_{i}$   Null hypothesis: time to read congruent words is the same as time to read incongruent words.\n",
    "   - $H_{a}: \\mu_{c} < \\mu_{i}$   Alternative hypothesis: time to read congruent words is lower than time to read incongruent words.\n",
    "\n",
    "##### Statistical test:\n",
    "We don't have any statistics about a \"words list reading performance\" population, so we cannot use z-tests. We will use a t-test. Since we are expecting an improvement of reading speed (lower reading time) with congruent words, we will use a one-tail test, instead of a basic two-tail test. We will use the common recommended alpha criterion for decision.\n",
    "- One-tail t-test\n",
    "- $\\alpha = 0.05$"
   ]
  },
  {
   "cell_type": "markdown",
   "metadata": {},
   "source": [
    "### 3. Report some descriptive statistics regarding this dataset. Include at least one measure of central tendency and at least one measure of variability."
   ]
  },
  {
   "cell_type": "code",
   "execution_count": 2,
   "metadata": {
    "collapsed": false
   },
   "outputs": [
    {
     "data": {
      "text/html": [
       "<div>\n",
       "<table border=\"1\" class=\"dataframe\">\n",
       "  <thead>\n",
       "    <tr style=\"text-align: right;\">\n",
       "      <th></th>\n",
       "      <th>Congruent</th>\n",
       "      <th>Incongruent</th>\n",
       "    </tr>\n",
       "  </thead>\n",
       "  <tbody>\n",
       "    <tr>\n",
       "      <th>count</th>\n",
       "      <td>24.000000</td>\n",
       "      <td>24.000000</td>\n",
       "    </tr>\n",
       "    <tr>\n",
       "      <th>mean</th>\n",
       "      <td>14.051125</td>\n",
       "      <td>22.015917</td>\n",
       "    </tr>\n",
       "    <tr>\n",
       "      <th>median</th>\n",
       "      <td>14.356500</td>\n",
       "      <td>21.017500</td>\n",
       "    </tr>\n",
       "    <tr>\n",
       "      <th>std</th>\n",
       "      <td>3.559358</td>\n",
       "      <td>4.797057</td>\n",
       "    </tr>\n",
       "    <tr>\n",
       "      <th>sem</th>\n",
       "      <td>0.726551</td>\n",
       "      <td>0.979195</td>\n",
       "    </tr>\n",
       "  </tbody>\n",
       "</table>\n",
       "</div>"
      ],
      "text/plain": [
       "        Congruent  Incongruent\n",
       "count   24.000000    24.000000\n",
       "mean    14.051125    22.015917\n",
       "median  14.356500    21.017500\n",
       "std      3.559358     4.797057\n",
       "sem      0.726551     0.979195"
      ]
     },
     "execution_count": 2,
     "metadata": {},
     "output_type": "execute_result"
    }
   ],
   "source": [
    "import pandas as pd\n",
    "import numpy as np\n",
    "from scipy.stats import t\n",
    "\n",
    "import seaborn as sns\n",
    "df = pd.read_csv('stroopdata.csv')\n",
    "\n",
    "dfstat = pd.concat([\n",
    "    (df.describe()\n",
    "     .rename({'50%': 'median'})\n",
    "     .loc[['count', 'mean', 'median', 'std'], :]\n",
    "     ),\n",
    "    (df.sem()\n",
    "     .to_frame()\n",
    "     .rename(columns={0: 'sem'})\n",
    "     .T\n",
    "     )\n",
    "])\n",
    "\n",
    "dfstat"
   ]
  },
  {
   "cell_type": "markdown",
   "metadata": {
    "collapsed": true
   },
   "source": [
    "Both datasets contain 24 samples.\n",
    "\n",
    "#### For congruent words list:\n",
    "Central tendency:\n",
    "- the mean is 14.05 \n",
    "- the median is 14.36\n",
    "- median and mean are close: the dataset seems to have no skew\n",
    "\n",
    "Variability:\n",
    "- the standard deviation is 3.56\n",
    "- the standard error of the mean is 0.73\n",
    "\n",
    "#### For incongruent words list:\n",
    "Central tendency:\n",
    "- the mean is 22.02 \n",
    "- the median is 21.02\n",
    "- median and mean are close: the dataset seems to have no skew\n",
    "\n",
    "Variability:\n",
    "- the standard deviation is 4.80\n",
    "- the standard error of the mean is 0.98\n"
   ]
  },
  {
   "cell_type": "markdown",
   "metadata": {},
   "source": [
    "### 4. Provide one or two visualizations that show the distribution of the sample data. Write one or two sentences noting what you observe about the plot or plots."
   ]
  },
  {
   "cell_type": "code",
   "execution_count": 3,
   "metadata": {
    "collapsed": false
   },
   "outputs": [
    {
     "data": {
      "text/plain": [
       "<matplotlib.axes._subplots.AxesSubplot at 0xb5e4ba8>"
      ]
     },
     "execution_count": 3,
     "metadata": {},
     "output_type": "execute_result"
    },
    {
     "data": {
      "image/png": "[encoded data removed]",
      "text/plain": [
       "<matplotlib.figure.Figure at 0x52bceb8>"
      ]
     },
     "metadata": {},
     "output_type": "display_data"
    }
   ],
   "source": [
    "%matplotlib inline\n",
    "df.plot(kind='hist', bins = 20, alpha=0.5)"
   ]
  },
  {
   "cell_type": "markdown",
   "metadata": {
    "collapsed": true
   },
   "source": [
    "Both datasets (*Congruent/Incongruent*) seem to have a normal distribution\n",
    "To be noted: *Incongruent* data seem to have some extreme data points (around 35)\n",
    "\n",
    "We can see that *Incongruent* data are centered on a much higher mean value than *Congruent* data. So we expect to reject the null hypothesis."
   ]
  },
  {
   "cell_type": "markdown",
   "metadata": {},
   "source": [
    "### 5. Now, perform the statistical test and report your results. What is your confidence level and your critical statistic value? Do you reject the null hypothesis or fail to reject it? Come to a conclusion in terms of the experiment task. Did the results match up with your expectations?"
   ]
  },
  {
   "cell_type": "code",
   "execution_count": 3,
   "metadata": {
    "collapsed": false
   },
   "outputs": [
    {
     "name": "stdout",
     "output_type": "stream",
     "text": [
      "t critical value: -1.714 (for alpha=0.05)\n",
      "t statistic: -8.021\n",
      "null hypothesis rejected\n",
      "\n",
      "95% confidence interval: difference between congruent and incongruent reading time is\n",
      "between -10.02s and -5.91s with 95% confidence.\n",
      "\n",
      "p value: 2.052e-08\n",
      "R2: 0.737\n"
     ]
    }
   ],
   "source": [
    "diff = df.Congruent - df.Incongruent\n",
    "diff_mean = diff.mean()\n",
    "\n",
    "################### CORRECTED PART HERE\n",
    "# computed using a 'manual' formula for debugging\n",
    "n = len(diff)\n",
    "diff_sem = np.sqrt(((diff - diff_mean)**2).sum() / (n - 1)) / np.sqrt(n)\n",
    "# computed using a function from a library\n",
    "diff_sem = diff.sem()\n",
    "################### END OF CORRECTED PART\n",
    "\n",
    "t_statistic = diff_mean / diff_sem\n",
    "\n",
    "# 1-tail t-test\n",
    "ddof = n - 1\n",
    "alpha = 0.05\n",
    "\n",
    "# t critical value read 'manually' from a table for debugging\n",
    "t_critical = -1.714\n",
    "# t critical value computed using a function from a library\n",
    "t_critical = t.ppf(alpha, ddof)\n",
    "\n",
    "print('t critical value: {:.3f} (for alpha={})'.format(t_critical, alpha))\n",
    "print('t statistic: {:.3f}'.format(t_statistic))\n",
    "print('null hypothesis {}\\n'.format('rejected' if t_statistic < t_critical else 'accepted'))\n",
    "\n",
    "# 95% confidence interval\n",
    "t_95 = t.ppf(1 - 0.025, ddof)\n",
    "confidence95 = (diff_mean - t_95 * diff_sem, diff_mean + t_95 * diff_sem)\n",
    "print('''95% confidence interval: difference between congruent and incongruent reading time is\n",
    "between {:.2f}s and {:.2f}s with 95% confidence.\n",
    "'''.format(*confidence95))\n",
    "\n",
    "p_value = t.cdf(t_statistic, ddof)\n",
    "print('p value: {:.3e}'.format(p_value))\n",
    "r2 = t_statistic**2 / (t_statistic**2 + ddof)\n",
    "print('R2: {:.3f}'.format(r2))"
   ]
  },
  {
   "cell_type": "markdown",
   "metadata": {
    "collapsed": true
   },
   "source": [
    "The null hypothesis is __rejected__, since the *t statistic* is much lower than the *t critical value*. The *p value* is much lower than the recommended $\\alpha$ criterion, so we have a high confidence in this result.\n",
    "\n",
    "This result matches our expectations, as we have seen the data distributions were clearly not centered around the same mean value."
   ]
  },
  {
   "cell_type": "markdown",
   "metadata": {},
   "source": [
    "### 6. Optional: What do you think is responsible for the effects observed? Can you think of an alternative or similar task that would result in a similar effect? Some research about the problem will be helpful for thinking about these two questions!"
   ]
  }
 ],
 "metadata": {
  "anaconda-cloud": {},
  "kernelspec": {
   "display_name": "Python [default]",
   "language": "python",
   "name": "python3"
  },
  "language_info": {
   "codemirror_mode": {
    "name": "ipython",
    "version": 3
   },
   "file_extension": ".py",
   "mimetype": "text/x-python",
   "name": "python",
   "nbconvert_exporter": "python",
   "pygments_lexer": "ipython3",
   "version": "3.5.2"
  }
 },
 "nbformat": 4,
 "nbformat_minor": 1
}
